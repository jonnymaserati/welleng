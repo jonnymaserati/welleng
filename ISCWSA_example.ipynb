{
 "cells": [
  {
   "cell_type": "code",
   "execution_count": 32,
   "id": "8f59643c",
   "metadata": {
    "pycharm": {
     "name": "#%%\n"
    }
   },
   "outputs": [],
   "source": [
    "import pandas as pd\n",
    "from welleng.error_formula_extractor.enums import Propagation, VectorType\n",
    "from welleng.error_formula_extractor.models import ErrorTerm, SurveyToolErrorModel\n",
    "from welleng.error_formula_extractor.formula_utils import function_builder\n"
   ]
  },
  {
   "cell_type": "code",
   "execution_count": 9,
   "id": "4f4b6ab3",
   "metadata": {
    "pycharm": {
     "name": "#%%\n"
    }
   },
   "outputs": [],
   "source": [
    "dfs = pd.read_excel('error-model-example-mwdrev5-1-iscwsa-1 (1).xlsx',sheet_name=\"Model\", usecols=\"D:W\", header=2)"
   ]
  },
  {
   "cell_type": "code",
   "execution_count": 10,
   "id": "34b61a35",
   "metadata": {
    "pycharm": {
     "name": "#%%\n"
    }
   },
   "outputs": [
    {
     "data": {
      "text/plain": "Index(['No', 'Code', 'Term Description', 'Wt.Fn.', 'Wt.Fn. Source', 'Type',\n       'Magnitude', 'Units', 'Prop.', 'P1', 'P2', 'P3', 'Wt.Fn. Comment',\n       'Depth Formula', 'Inclination Formula', 'Azimuth Formula',\n       'Singularity North Formula', 'Singularity East Formula',\n       'Singularity Vert. Formula', 'Convert Magnitudes Degrees to Radians'],\n      dtype='object')"
     },
     "execution_count": 10,
     "metadata": {},
     "output_type": "execute_result"
    }
   ],
   "source": [
    "dfs.columns"
   ]
  },
  {
   "cell_type": "code",
   "execution_count": 11,
   "id": "096aa73c",
   "metadata": {
    "pycharm": {
     "name": "#%%\n"
    }
   },
   "outputs": [],
   "source": [
    "desired_cols = ['No', 'Code', 'Units', 'Prop.',\n",
    "       'Depth Formula', 'Inclination Formula', 'Azimuth Formula',\n",
    "        'Convert Magnitudes Degrees to Radians']\n",
    "df = dfs[desired_cols]"
   ]
  },
  {
   "cell_type": "code",
   "execution_count": 12,
   "id": "9aa23727",
   "metadata": {
    "scrolled": true,
    "pycharm": {
     "name": "#%%\n"
    }
   },
   "outputs": [],
   "source": [
    "desired_cols = {\n",
    "    \"No\": \"sequence_no\",\n",
    "    'Code': \"term_name\", \n",
    "    'Units': \"c_units\", \n",
    "    'Prop.': \"tie_type\",\n",
    "    'Convert Magnitudes Degrees to Radians': \"c_value\",\n",
    "    'Depth Formula': 'Depth Formula', \n",
    "    'Inclination Formula': 'Inclination Formula', \n",
    "    'Azimuth Formula': 'Azimuth Formula'\n",
    "}\n",
    "df = dfs[desired_cols.keys()]"
   ]
  },
  {
   "cell_type": "code",
   "execution_count": 13,
   "id": "e2dde17b",
   "metadata": {
    "pycharm": {
     "name": "#%%\n"
    }
   },
   "outputs": [],
   "source": [
    "df.columns = desired_cols.values()"
   ]
  },
  {
   "cell_type": "code",
   "execution_count": 14,
   "id": "e2b25d27",
   "metadata": {
    "pycharm": {
     "name": "#%%\n"
    }
   },
   "outputs": [
    {
     "data": {
      "text/plain": "    sequence_no  term_name c_units tie_type       c_value Depth Formula  \\\n0             1       DRFR       m        R  3.500000e-01             1   \n1             2       DSFS       -        S  5.600000e-04            MD   \n2             3       DSTG     1/m        G  2.500000e-07      MD * TVD   \n3             4  ABXY-TI1S    m/s2        S  4.000000e-03             0   \n4             5  ABXY-TI2S    m/s2        S  4.000000e-03             0   \n5             6        ABZ    m/s2        S  4.000000e-03             0   \n6             7  ASXY-TI1S       -        S  5.000000e-04             0   \n7             8  ASXY-TI2S       -        S  5.000000e-04             0   \n8             9  ASXY-TI3S       -        S  5.000000e-04             0   \n9            10        ASZ       -        S  5.000000e-04             0   \n10           11  MBXY-TI1S      nT        S  7.000000e+01             0   \n11           12  MBXY-TI2S      nT        S  7.000000e+01             0   \n12           13        MBZ      nT        S  7.000000e+01             0   \n13           14  MSXY-TI1S       -        S  1.600000e-03             0   \n14           15  MSXY-TI2S       -        S  1.600000e-03             0   \n15           16  MSXY-TI3S       -        S  1.600000e-03             0   \n16           17        MSZ       -        S  1.600000e-03             0   \n17           18      DEC-U     deg        W  2.792527e-03             0   \n18           19     DEC-OS     deg        G  4.188790e-03             0   \n19           20     DEC-OH     deg        G  3.665191e-03             0   \n20           21     DEC-OI     deg        G  8.726646e-04             0   \n21           22       DECR     deg        R  1.745329e-03             0   \n22           23      DBH-U  deg.nT        W  4.101524e+01             0   \n23           24     DBH-OS  deg.nT        G  5.862561e+01             0   \n24           25     DBH-OH  deg.nT        G  4.956735e+01             0   \n25           26     DBH-OI  deg.nT        G  6.213372e+00             0   \n26           27       DBHR  deg.nT        R  5.235988e+01             0   \n27           28       AMIL      nT        S  2.200000e+02             0   \n28           29       SAGE     deg        S  3.490659e-03             0   \n29           30       XYM1     deg        S  1.745329e-03             0   \n30           31       XYM2     deg        S  1.745329e-03             0   \n31           32      XYM3E     deg        R  5.235988e-03             0   \n32           33      XYM4E     deg        R  5.235988e-03             0   \n33           34       XCLA       -        R  1.670000e-01             0   \n34           35       XCLH       -        R  1.670000e-01             0   \n\n                                  Inclination Formula  \\\n0                                                   0   \n1                                                   0   \n2                                                   0   \n3                                  -Cos(Inc) / Gfield   \n4                                                   0   \n5                                  -Sin(Inc) / Gfield   \n6                        Sin(Inc) * Cos(Inc) / Sqr(2)   \n7                             Sin(Inc) * Cos(Inc) / 2   \n8                                                   0   \n9                                -Sin(Inc) * Cos(Inc)   \n10                                                  0   \n11                                                  0   \n12                                                  0   \n13                                                  0   \n14                                                  0   \n15                                                  0   \n16                                                  0   \n17                                                  0   \n18                                                  0   \n19                                                  0   \n20                                                  0   \n21                                                  0   \n22                                                  0   \n23                                                  0   \n24                                                  0   \n25                                                  0   \n26                                                  0   \n27                                                  0   \n28                                    (Sin(Inc))^0.25   \n29                                      Abs(Sin(Inc))   \n30                                                  0   \n31  Cos(Inc) * Cos(AzT)  * Max(1, sqrt(10/(MD-MDPr...   \n32  Cos(Inc) * Sin(AzT) * Max(1, sqrt(10/(MD-MDPre...   \n33                                                  0   \n34      Max(Abs(Inc-IncPrev), 0.0328084* (MD-MDPrev))   \n\n                                      Azimuth Formula  \n0                                                   0  \n1                                                   0  \n2                                                   0  \n3           (Tan(Dip) * Cos(Inc) * Sin(AzM)) / Gfield  \n4   ((Tan((pi / 2) - Inc)) - Tan(Dip) * Cos(AzM)) ...  \n5             Tan(Dip) * Sin(Inc) * Sin(AzM) / Gfield  \n6   (-Tan(Dip) * Sin(Inc) * Cos(Inc) * Sin(AzM)) /...  \n7    (-Tan(Dip) * Sin(Inc) * Cos(Inc) * Sin(AzM)) / 2  \n8     (Tan(Dip) * Sin(Inc) * Cos(AzM) - Cos(Inc)) / 2  \n9           Tan(Dip) * Sin(Inc) * Cos(Inc) * Sin(AzM)  \n10         -Cos(Inc) * Sin(AzM) / (BField * Cos(Dip))  \n11                     Cos(AzM) / (BField * Cos(Dip))  \n12         -Sin(Inc) * Sin(AzM) / (BField * Cos(Dip))  \n13  Sin(Inc) * Sin(AzM) * (Tan(Dip) * Cos(Inc) + S...  \n14  Sin(AzM) * (Tan(Dip) * Sin(Inc) * Cos(Inc) - C...  \n15  (Cos(Inc) * Cos(AzM) * Cos(AzM) - Cos(Inc) * S...  \n16  -(Sin(Inc) * Cos(AzM) + Tan(Dip) * Cos(Inc)) *...  \n17                                                  1  \n18                                                  1  \n19                                                  1  \n20                                                  1  \n21                                                  1  \n22                            1 / (BField * Cos(Dip))  \n23                            1 / (BField * Cos(Dip))  \n24                            1 / (BField * Cos(Dip))  \n25                            1 / (BField * Cos(Dip))  \n26                            1 / (BField * Cos(Dip))  \n27          Sin(Inc) * Sin(AzM) / (BField * Cos(Dip))  \n28                                                  0  \n29                                                  0  \n30                                                 -1  \n31  (Cos(Inc) * Sin(AzT)  / Sin(Inc)) * Max(1, sqr...  \n32  (Cos(Inc) * Cos(AzT)  / Sin(Inc)) * Max(1, sqr...  \n33  Max(Abs(AzT-AzPrev), 0.0328084 * (MD-MDPrev) /...  \n34                                                  0  ",
      "text/html": "<div>\n<style scoped>\n    .dataframe tbody tr th:only-of-type {\n        vertical-align: middle;\n    }\n\n    .dataframe tbody tr th {\n        vertical-align: top;\n    }\n\n    .dataframe thead th {\n        text-align: right;\n    }\n</style>\n<table border=\"1\" class=\"dataframe\">\n  <thead>\n    <tr style=\"text-align: right;\">\n      <th></th>\n      <th>sequence_no</th>\n      <th>term_name</th>\n      <th>c_units</th>\n      <th>tie_type</th>\n      <th>c_value</th>\n      <th>Depth Formula</th>\n      <th>Inclination Formula</th>\n      <th>Azimuth Formula</th>\n    </tr>\n  </thead>\n  <tbody>\n    <tr>\n      <th>0</th>\n      <td>1</td>\n      <td>DRFR</td>\n      <td>m</td>\n      <td>R</td>\n      <td>3.500000e-01</td>\n      <td>1</td>\n      <td>0</td>\n      <td>0</td>\n    </tr>\n    <tr>\n      <th>1</th>\n      <td>2</td>\n      <td>DSFS</td>\n      <td>-</td>\n      <td>S</td>\n      <td>5.600000e-04</td>\n      <td>MD</td>\n      <td>0</td>\n      <td>0</td>\n    </tr>\n    <tr>\n      <th>2</th>\n      <td>3</td>\n      <td>DSTG</td>\n      <td>1/m</td>\n      <td>G</td>\n      <td>2.500000e-07</td>\n      <td>MD * TVD</td>\n      <td>0</td>\n      <td>0</td>\n    </tr>\n    <tr>\n      <th>3</th>\n      <td>4</td>\n      <td>ABXY-TI1S</td>\n      <td>m/s2</td>\n      <td>S</td>\n      <td>4.000000e-03</td>\n      <td>0</td>\n      <td>-Cos(Inc) / Gfield</td>\n      <td>(Tan(Dip) * Cos(Inc) * Sin(AzM)) / Gfield</td>\n    </tr>\n    <tr>\n      <th>4</th>\n      <td>5</td>\n      <td>ABXY-TI2S</td>\n      <td>m/s2</td>\n      <td>S</td>\n      <td>4.000000e-03</td>\n      <td>0</td>\n      <td>0</td>\n      <td>((Tan((pi / 2) - Inc)) - Tan(Dip) * Cos(AzM)) ...</td>\n    </tr>\n    <tr>\n      <th>5</th>\n      <td>6</td>\n      <td>ABZ</td>\n      <td>m/s2</td>\n      <td>S</td>\n      <td>4.000000e-03</td>\n      <td>0</td>\n      <td>-Sin(Inc) / Gfield</td>\n      <td>Tan(Dip) * Sin(Inc) * Sin(AzM) / Gfield</td>\n    </tr>\n    <tr>\n      <th>6</th>\n      <td>7</td>\n      <td>ASXY-TI1S</td>\n      <td>-</td>\n      <td>S</td>\n      <td>5.000000e-04</td>\n      <td>0</td>\n      <td>Sin(Inc) * Cos(Inc) / Sqr(2)</td>\n      <td>(-Tan(Dip) * Sin(Inc) * Cos(Inc) * Sin(AzM)) /...</td>\n    </tr>\n    <tr>\n      <th>7</th>\n      <td>8</td>\n      <td>ASXY-TI2S</td>\n      <td>-</td>\n      <td>S</td>\n      <td>5.000000e-04</td>\n      <td>0</td>\n      <td>Sin(Inc) * Cos(Inc) / 2</td>\n      <td>(-Tan(Dip) * Sin(Inc) * Cos(Inc) * Sin(AzM)) / 2</td>\n    </tr>\n    <tr>\n      <th>8</th>\n      <td>9</td>\n      <td>ASXY-TI3S</td>\n      <td>-</td>\n      <td>S</td>\n      <td>5.000000e-04</td>\n      <td>0</td>\n      <td>0</td>\n      <td>(Tan(Dip) * Sin(Inc) * Cos(AzM) - Cos(Inc)) / 2</td>\n    </tr>\n    <tr>\n      <th>9</th>\n      <td>10</td>\n      <td>ASZ</td>\n      <td>-</td>\n      <td>S</td>\n      <td>5.000000e-04</td>\n      <td>0</td>\n      <td>-Sin(Inc) * Cos(Inc)</td>\n      <td>Tan(Dip) * Sin(Inc) * Cos(Inc) * Sin(AzM)</td>\n    </tr>\n    <tr>\n      <th>10</th>\n      <td>11</td>\n      <td>MBXY-TI1S</td>\n      <td>nT</td>\n      <td>S</td>\n      <td>7.000000e+01</td>\n      <td>0</td>\n      <td>0</td>\n      <td>-Cos(Inc) * Sin(AzM) / (BField * Cos(Dip))</td>\n    </tr>\n    <tr>\n      <th>11</th>\n      <td>12</td>\n      <td>MBXY-TI2S</td>\n      <td>nT</td>\n      <td>S</td>\n      <td>7.000000e+01</td>\n      <td>0</td>\n      <td>0</td>\n      <td>Cos(AzM) / (BField * Cos(Dip))</td>\n    </tr>\n    <tr>\n      <th>12</th>\n      <td>13</td>\n      <td>MBZ</td>\n      <td>nT</td>\n      <td>S</td>\n      <td>7.000000e+01</td>\n      <td>0</td>\n      <td>0</td>\n      <td>-Sin(Inc) * Sin(AzM) / (BField * Cos(Dip))</td>\n    </tr>\n    <tr>\n      <th>13</th>\n      <td>14</td>\n      <td>MSXY-TI1S</td>\n      <td>-</td>\n      <td>S</td>\n      <td>1.600000e-03</td>\n      <td>0</td>\n      <td>0</td>\n      <td>Sin(Inc) * Sin(AzM) * (Tan(Dip) * Cos(Inc) + S...</td>\n    </tr>\n    <tr>\n      <th>14</th>\n      <td>15</td>\n      <td>MSXY-TI2S</td>\n      <td>-</td>\n      <td>S</td>\n      <td>1.600000e-03</td>\n      <td>0</td>\n      <td>0</td>\n      <td>Sin(AzM) * (Tan(Dip) * Sin(Inc) * Cos(Inc) - C...</td>\n    </tr>\n    <tr>\n      <th>15</th>\n      <td>16</td>\n      <td>MSXY-TI3S</td>\n      <td>-</td>\n      <td>S</td>\n      <td>1.600000e-03</td>\n      <td>0</td>\n      <td>0</td>\n      <td>(Cos(Inc) * Cos(AzM) * Cos(AzM) - Cos(Inc) * S...</td>\n    </tr>\n    <tr>\n      <th>16</th>\n      <td>17</td>\n      <td>MSZ</td>\n      <td>-</td>\n      <td>S</td>\n      <td>1.600000e-03</td>\n      <td>0</td>\n      <td>0</td>\n      <td>-(Sin(Inc) * Cos(AzM) + Tan(Dip) * Cos(Inc)) *...</td>\n    </tr>\n    <tr>\n      <th>17</th>\n      <td>18</td>\n      <td>DEC-U</td>\n      <td>deg</td>\n      <td>W</td>\n      <td>2.792527e-03</td>\n      <td>0</td>\n      <td>0</td>\n      <td>1</td>\n    </tr>\n    <tr>\n      <th>18</th>\n      <td>19</td>\n      <td>DEC-OS</td>\n      <td>deg</td>\n      <td>G</td>\n      <td>4.188790e-03</td>\n      <td>0</td>\n      <td>0</td>\n      <td>1</td>\n    </tr>\n    <tr>\n      <th>19</th>\n      <td>20</td>\n      <td>DEC-OH</td>\n      <td>deg</td>\n      <td>G</td>\n      <td>3.665191e-03</td>\n      <td>0</td>\n      <td>0</td>\n      <td>1</td>\n    </tr>\n    <tr>\n      <th>20</th>\n      <td>21</td>\n      <td>DEC-OI</td>\n      <td>deg</td>\n      <td>G</td>\n      <td>8.726646e-04</td>\n      <td>0</td>\n      <td>0</td>\n      <td>1</td>\n    </tr>\n    <tr>\n      <th>21</th>\n      <td>22</td>\n      <td>DECR</td>\n      <td>deg</td>\n      <td>R</td>\n      <td>1.745329e-03</td>\n      <td>0</td>\n      <td>0</td>\n      <td>1</td>\n    </tr>\n    <tr>\n      <th>22</th>\n      <td>23</td>\n      <td>DBH-U</td>\n      <td>deg.nT</td>\n      <td>W</td>\n      <td>4.101524e+01</td>\n      <td>0</td>\n      <td>0</td>\n      <td>1 / (BField * Cos(Dip))</td>\n    </tr>\n    <tr>\n      <th>23</th>\n      <td>24</td>\n      <td>DBH-OS</td>\n      <td>deg.nT</td>\n      <td>G</td>\n      <td>5.862561e+01</td>\n      <td>0</td>\n      <td>0</td>\n      <td>1 / (BField * Cos(Dip))</td>\n    </tr>\n    <tr>\n      <th>24</th>\n      <td>25</td>\n      <td>DBH-OH</td>\n      <td>deg.nT</td>\n      <td>G</td>\n      <td>4.956735e+01</td>\n      <td>0</td>\n      <td>0</td>\n      <td>1 / (BField * Cos(Dip))</td>\n    </tr>\n    <tr>\n      <th>25</th>\n      <td>26</td>\n      <td>DBH-OI</td>\n      <td>deg.nT</td>\n      <td>G</td>\n      <td>6.213372e+00</td>\n      <td>0</td>\n      <td>0</td>\n      <td>1 / (BField * Cos(Dip))</td>\n    </tr>\n    <tr>\n      <th>26</th>\n      <td>27</td>\n      <td>DBHR</td>\n      <td>deg.nT</td>\n      <td>R</td>\n      <td>5.235988e+01</td>\n      <td>0</td>\n      <td>0</td>\n      <td>1 / (BField * Cos(Dip))</td>\n    </tr>\n    <tr>\n      <th>27</th>\n      <td>28</td>\n      <td>AMIL</td>\n      <td>nT</td>\n      <td>S</td>\n      <td>2.200000e+02</td>\n      <td>0</td>\n      <td>0</td>\n      <td>Sin(Inc) * Sin(AzM) / (BField * Cos(Dip))</td>\n    </tr>\n    <tr>\n      <th>28</th>\n      <td>29</td>\n      <td>SAGE</td>\n      <td>deg</td>\n      <td>S</td>\n      <td>3.490659e-03</td>\n      <td>0</td>\n      <td>(Sin(Inc))^0.25</td>\n      <td>0</td>\n    </tr>\n    <tr>\n      <th>29</th>\n      <td>30</td>\n      <td>XYM1</td>\n      <td>deg</td>\n      <td>S</td>\n      <td>1.745329e-03</td>\n      <td>0</td>\n      <td>Abs(Sin(Inc))</td>\n      <td>0</td>\n    </tr>\n    <tr>\n      <th>30</th>\n      <td>31</td>\n      <td>XYM2</td>\n      <td>deg</td>\n      <td>S</td>\n      <td>1.745329e-03</td>\n      <td>0</td>\n      <td>0</td>\n      <td>-1</td>\n    </tr>\n    <tr>\n      <th>31</th>\n      <td>32</td>\n      <td>XYM3E</td>\n      <td>deg</td>\n      <td>R</td>\n      <td>5.235988e-03</td>\n      <td>0</td>\n      <td>Cos(Inc) * Cos(AzT)  * Max(1, sqrt(10/(MD-MDPr...</td>\n      <td>(Cos(Inc) * Sin(AzT)  / Sin(Inc)) * Max(1, sqr...</td>\n    </tr>\n    <tr>\n      <th>32</th>\n      <td>33</td>\n      <td>XYM4E</td>\n      <td>deg</td>\n      <td>R</td>\n      <td>5.235988e-03</td>\n      <td>0</td>\n      <td>Cos(Inc) * Sin(AzT) * Max(1, sqrt(10/(MD-MDPre...</td>\n      <td>(Cos(Inc) * Cos(AzT)  / Sin(Inc)) * Max(1, sqr...</td>\n    </tr>\n    <tr>\n      <th>33</th>\n      <td>34</td>\n      <td>XCLA</td>\n      <td>-</td>\n      <td>R</td>\n      <td>1.670000e-01</td>\n      <td>0</td>\n      <td>0</td>\n      <td>Max(Abs(AzT-AzPrev), 0.0328084 * (MD-MDPrev) /...</td>\n    </tr>\n    <tr>\n      <th>34</th>\n      <td>35</td>\n      <td>XCLH</td>\n      <td>-</td>\n      <td>R</td>\n      <td>1.670000e-01</td>\n      <td>0</td>\n      <td>Max(Abs(Inc-IncPrev), 0.0328084* (MD-MDPrev))</td>\n      <td>0</td>\n    </tr>\n  </tbody>\n</table>\n</div>"
     },
     "execution_count": 14,
     "metadata": {},
     "output_type": "execute_result"
    }
   ],
   "source": [
    "df"
   ]
  },
  {
   "cell_type": "code",
   "execution_count": 21,
   "id": "28e8a7d8",
   "metadata": {
    "pycharm": {
     "name": "#%%\n"
    }
   },
   "outputs": [],
   "source": [
    "var_map = {\n",
    "\n",
    "            \"MD-MDPrev\": \"dmd\",\n",
    "            \"AzT-AzPrev\": \"dazt\",\n",
    "            \"MD\": \"tmd\",\n",
    "            \"TVD\": \"tvd\",\n",
    "            \"Inc\": \"inc\",\n",
    "            \"Gfield\": \"gtot\",\n",
    "            \"Dip\": \"dip\",\n",
    "            \"BField\": \"mtot\",\n",
    "            \"AzT\": \"azt\",\n",
    "            \"AzM\": \"azm\",\n",
    "        }\n",
    "\n"
   ]
  },
  {
   "cell_type": "code",
   "execution_count": 16,
   "outputs": [],
   "source": [
    "formula_cols = ['Depth Formula', 'Inclination Formula', 'Azimuth Formula']"
   ],
   "metadata": {
    "collapsed": false,
    "pycharm": {
     "name": "#%%\n"
    }
   }
  },
  {
   "cell_type": "code",
   "execution_count": 27,
   "outputs": [
    {
     "data": {
      "text/plain": "'max(abs(dazt), 0.0328084 * (dmd) / sin(inc))'"
     },
     "execution_count": 27,
     "metadata": {},
     "output_type": "execute_result"
    }
   ],
   "source": [
    "def replace_str(formula_str):\n",
    "    formula_str = str(formula_str)\n",
    "    for search, replace in var_map.items():\n",
    "        formula_str = formula_str.replace(search, replace)\n",
    "\n",
    "    if formula_str == \"0\":\n",
    "        return None\n",
    "    return formula_str.lower()\n",
    "replace_str(\"Max(Abs(AzT-AzPrev), 0.0328084 * (MD-MDPrev) / Sin(Inc))\")"
   ],
   "metadata": {
    "collapsed": false,
    "pycharm": {
     "name": "#%%\n"
    }
   }
  },
  {
   "cell_type": "code",
   "execution_count": 28,
   "outputs": [
    {
     "name": "stderr",
     "output_type": "stream",
     "text": [
      "C:\\Users\\Deep Joshi\\AppData\\Local\\Temp\\ipykernel_2052\\2430101467.py:2: SettingWithCopyWarning: \n",
      "A value is trying to be set on a copy of a slice from a DataFrame.\n",
      "Try using .loc[row_indexer,col_indexer] = value instead\n",
      "\n",
      "See the caveats in the documentation: https://pandas.pydata.org/pandas-docs/stable/user_guide/indexing.html#returning-a-view-versus-a-copy\n",
      "  df[col]  = df[col].apply(replace_str)\n"
     ]
    },
    {
     "data": {
      "text/plain": "    sequence_no  term_name c_units tie_type       c_value Depth Formula  \\\n0             1       DRFR       m        R  3.500000e-01             1   \n1             2       DSFS       -        S  5.600000e-04           tmd   \n2             3       DSTG     1/m        G  2.500000e-07     tmd * tvd   \n3             4  ABXY-TI1S    m/s2        S  4.000000e-03          None   \n4             5  ABXY-TI2S    m/s2        S  4.000000e-03          None   \n5             6        ABZ    m/s2        S  4.000000e-03          None   \n6             7  ASXY-TI1S       -        S  5.000000e-04          None   \n7             8  ASXY-TI2S       -        S  5.000000e-04          None   \n8             9  ASXY-TI3S       -        S  5.000000e-04          None   \n9            10        ASZ       -        S  5.000000e-04          None   \n10           11  MBXY-TI1S      nT        S  7.000000e+01          None   \n11           12  MBXY-TI2S      nT        S  7.000000e+01          None   \n12           13        MBZ      nT        S  7.000000e+01          None   \n13           14  MSXY-TI1S       -        S  1.600000e-03          None   \n14           15  MSXY-TI2S       -        S  1.600000e-03          None   \n15           16  MSXY-TI3S       -        S  1.600000e-03          None   \n16           17        MSZ       -        S  1.600000e-03          None   \n17           18      DEC-U     deg        W  2.792527e-03          None   \n18           19     DEC-OS     deg        G  4.188790e-03          None   \n19           20     DEC-OH     deg        G  3.665191e-03          None   \n20           21     DEC-OI     deg        G  8.726646e-04          None   \n21           22       DECR     deg        R  1.745329e-03          None   \n22           23      DBH-U  deg.nT        W  4.101524e+01          None   \n23           24     DBH-OS  deg.nT        G  5.862561e+01          None   \n24           25     DBH-OH  deg.nT        G  4.956735e+01          None   \n25           26     DBH-OI  deg.nT        G  6.213372e+00          None   \n26           27       DBHR  deg.nT        R  5.235988e+01          None   \n27           28       AMIL      nT        S  2.200000e+02          None   \n28           29       SAGE     deg        S  3.490659e-03          None   \n29           30       XYM1     deg        S  1.745329e-03          None   \n30           31       XYM2     deg        S  1.745329e-03          None   \n31           32      XYM3E     deg        R  5.235988e-03          None   \n32           33      XYM4E     deg        R  5.235988e-03          None   \n33           34       XCLA       -        R  1.670000e-01          None   \n34           35       XCLH       -        R  1.670000e-01          None   \n\n                              Inclination Formula  \\\n0                                            None   \n1                                            None   \n2                                            None   \n3                                -cos(inc) / gtot   \n4                                            None   \n5                                -sin(inc) / gtot   \n6                    sin(inc) * cos(inc) / sqr(2)   \n7                         sin(inc) * cos(inc) / 2   \n8                                            None   \n9                            -sin(inc) * cos(inc)   \n10                                           None   \n11                                           None   \n12                                           None   \n13                                           None   \n14                                           None   \n15                                           None   \n16                                           None   \n17                                           None   \n18                                           None   \n19                                           None   \n20                                           None   \n21                                           None   \n22                                           None   \n23                                           None   \n24                                           None   \n25                                           None   \n26                                           None   \n27                                           None   \n28                                (sin(inc))^0.25   \n29                                  abs(sin(inc))   \n30                                           None   \n31  cos(inc) * cos(azt)  * max(1, sqrt(10/(dmd)))   \n32   cos(inc) * sin(azt) * max(1, sqrt(10/(dmd)))   \n33                                           None   \n34        max(abs(inc-incprev), 0.0328084* (dmd))   \n\n                                      Azimuth Formula  \n0                                                None  \n1                                                None  \n2                                                None  \n3             (tan(dip) * cos(inc) * sin(azm)) / gtot  \n4   ((tan((pi / 2) - inc)) - tan(dip) * cos(azm)) ...  \n5               tan(dip) * sin(inc) * sin(azm) / gtot  \n6   (-tan(dip) * sin(inc) * cos(inc) * sin(azm)) /...  \n7    (-tan(dip) * sin(inc) * cos(inc) * sin(azm)) / 2  \n8     (tan(dip) * sin(inc) * cos(azm) - cos(inc)) / 2  \n9           tan(dip) * sin(inc) * cos(inc) * sin(azm)  \n10           -cos(inc) * sin(azm) / (mtot * cos(dip))  \n11                       cos(azm) / (mtot * cos(dip))  \n12           -sin(inc) * sin(azm) / (mtot * cos(dip))  \n13  sin(inc) * sin(azm) * (tan(dip) * cos(inc) + s...  \n14  sin(azm) * (tan(dip) * sin(inc) * cos(inc) - c...  \n15  (cos(inc) * cos(azm) * cos(azm) - cos(inc) * s...  \n16  -(sin(inc) * cos(azm) + tan(dip) * cos(inc)) *...  \n17                                                  1  \n18                                                  1  \n19                                                  1  \n20                                                  1  \n21                                                  1  \n22                              1 / (mtot * cos(dip))  \n23                              1 / (mtot * cos(dip))  \n24                              1 / (mtot * cos(dip))  \n25                              1 / (mtot * cos(dip))  \n26                              1 / (mtot * cos(dip))  \n27            sin(inc) * sin(azm) / (mtot * cos(dip))  \n28                                               None  \n29                                               None  \n30                                                 -1  \n31  (cos(inc) * sin(azt)  / sin(inc)) * max(1, sqr...  \n32  (cos(inc) * cos(azt)  / sin(inc)) * max(1, sqr...  \n33       max(abs(dazt), 0.0328084 * (dmd) / sin(inc))  \n34                                               None  ",
      "text/html": "<div>\n<style scoped>\n    .dataframe tbody tr th:only-of-type {\n        vertical-align: middle;\n    }\n\n    .dataframe tbody tr th {\n        vertical-align: top;\n    }\n\n    .dataframe thead th {\n        text-align: right;\n    }\n</style>\n<table border=\"1\" class=\"dataframe\">\n  <thead>\n    <tr style=\"text-align: right;\">\n      <th></th>\n      <th>sequence_no</th>\n      <th>term_name</th>\n      <th>c_units</th>\n      <th>tie_type</th>\n      <th>c_value</th>\n      <th>Depth Formula</th>\n      <th>Inclination Formula</th>\n      <th>Azimuth Formula</th>\n    </tr>\n  </thead>\n  <tbody>\n    <tr>\n      <th>0</th>\n      <td>1</td>\n      <td>DRFR</td>\n      <td>m</td>\n      <td>R</td>\n      <td>3.500000e-01</td>\n      <td>1</td>\n      <td>None</td>\n      <td>None</td>\n    </tr>\n    <tr>\n      <th>1</th>\n      <td>2</td>\n      <td>DSFS</td>\n      <td>-</td>\n      <td>S</td>\n      <td>5.600000e-04</td>\n      <td>tmd</td>\n      <td>None</td>\n      <td>None</td>\n    </tr>\n    <tr>\n      <th>2</th>\n      <td>3</td>\n      <td>DSTG</td>\n      <td>1/m</td>\n      <td>G</td>\n      <td>2.500000e-07</td>\n      <td>tmd * tvd</td>\n      <td>None</td>\n      <td>None</td>\n    </tr>\n    <tr>\n      <th>3</th>\n      <td>4</td>\n      <td>ABXY-TI1S</td>\n      <td>m/s2</td>\n      <td>S</td>\n      <td>4.000000e-03</td>\n      <td>None</td>\n      <td>-cos(inc) / gtot</td>\n      <td>(tan(dip) * cos(inc) * sin(azm)) / gtot</td>\n    </tr>\n    <tr>\n      <th>4</th>\n      <td>5</td>\n      <td>ABXY-TI2S</td>\n      <td>m/s2</td>\n      <td>S</td>\n      <td>4.000000e-03</td>\n      <td>None</td>\n      <td>None</td>\n      <td>((tan((pi / 2) - inc)) - tan(dip) * cos(azm)) ...</td>\n    </tr>\n    <tr>\n      <th>5</th>\n      <td>6</td>\n      <td>ABZ</td>\n      <td>m/s2</td>\n      <td>S</td>\n      <td>4.000000e-03</td>\n      <td>None</td>\n      <td>-sin(inc) / gtot</td>\n      <td>tan(dip) * sin(inc) * sin(azm) / gtot</td>\n    </tr>\n    <tr>\n      <th>6</th>\n      <td>7</td>\n      <td>ASXY-TI1S</td>\n      <td>-</td>\n      <td>S</td>\n      <td>5.000000e-04</td>\n      <td>None</td>\n      <td>sin(inc) * cos(inc) / sqr(2)</td>\n      <td>(-tan(dip) * sin(inc) * cos(inc) * sin(azm)) /...</td>\n    </tr>\n    <tr>\n      <th>7</th>\n      <td>8</td>\n      <td>ASXY-TI2S</td>\n      <td>-</td>\n      <td>S</td>\n      <td>5.000000e-04</td>\n      <td>None</td>\n      <td>sin(inc) * cos(inc) / 2</td>\n      <td>(-tan(dip) * sin(inc) * cos(inc) * sin(azm)) / 2</td>\n    </tr>\n    <tr>\n      <th>8</th>\n      <td>9</td>\n      <td>ASXY-TI3S</td>\n      <td>-</td>\n      <td>S</td>\n      <td>5.000000e-04</td>\n      <td>None</td>\n      <td>None</td>\n      <td>(tan(dip) * sin(inc) * cos(azm) - cos(inc)) / 2</td>\n    </tr>\n    <tr>\n      <th>9</th>\n      <td>10</td>\n      <td>ASZ</td>\n      <td>-</td>\n      <td>S</td>\n      <td>5.000000e-04</td>\n      <td>None</td>\n      <td>-sin(inc) * cos(inc)</td>\n      <td>tan(dip) * sin(inc) * cos(inc) * sin(azm)</td>\n    </tr>\n    <tr>\n      <th>10</th>\n      <td>11</td>\n      <td>MBXY-TI1S</td>\n      <td>nT</td>\n      <td>S</td>\n      <td>7.000000e+01</td>\n      <td>None</td>\n      <td>None</td>\n      <td>-cos(inc) * sin(azm) / (mtot * cos(dip))</td>\n    </tr>\n    <tr>\n      <th>11</th>\n      <td>12</td>\n      <td>MBXY-TI2S</td>\n      <td>nT</td>\n      <td>S</td>\n      <td>7.000000e+01</td>\n      <td>None</td>\n      <td>None</td>\n      <td>cos(azm) / (mtot * cos(dip))</td>\n    </tr>\n    <tr>\n      <th>12</th>\n      <td>13</td>\n      <td>MBZ</td>\n      <td>nT</td>\n      <td>S</td>\n      <td>7.000000e+01</td>\n      <td>None</td>\n      <td>None</td>\n      <td>-sin(inc) * sin(azm) / (mtot * cos(dip))</td>\n    </tr>\n    <tr>\n      <th>13</th>\n      <td>14</td>\n      <td>MSXY-TI1S</td>\n      <td>-</td>\n      <td>S</td>\n      <td>1.600000e-03</td>\n      <td>None</td>\n      <td>None</td>\n      <td>sin(inc) * sin(azm) * (tan(dip) * cos(inc) + s...</td>\n    </tr>\n    <tr>\n      <th>14</th>\n      <td>15</td>\n      <td>MSXY-TI2S</td>\n      <td>-</td>\n      <td>S</td>\n      <td>1.600000e-03</td>\n      <td>None</td>\n      <td>None</td>\n      <td>sin(azm) * (tan(dip) * sin(inc) * cos(inc) - c...</td>\n    </tr>\n    <tr>\n      <th>15</th>\n      <td>16</td>\n      <td>MSXY-TI3S</td>\n      <td>-</td>\n      <td>S</td>\n      <td>1.600000e-03</td>\n      <td>None</td>\n      <td>None</td>\n      <td>(cos(inc) * cos(azm) * cos(azm) - cos(inc) * s...</td>\n    </tr>\n    <tr>\n      <th>16</th>\n      <td>17</td>\n      <td>MSZ</td>\n      <td>-</td>\n      <td>S</td>\n      <td>1.600000e-03</td>\n      <td>None</td>\n      <td>None</td>\n      <td>-(sin(inc) * cos(azm) + tan(dip) * cos(inc)) *...</td>\n    </tr>\n    <tr>\n      <th>17</th>\n      <td>18</td>\n      <td>DEC-U</td>\n      <td>deg</td>\n      <td>W</td>\n      <td>2.792527e-03</td>\n      <td>None</td>\n      <td>None</td>\n      <td>1</td>\n    </tr>\n    <tr>\n      <th>18</th>\n      <td>19</td>\n      <td>DEC-OS</td>\n      <td>deg</td>\n      <td>G</td>\n      <td>4.188790e-03</td>\n      <td>None</td>\n      <td>None</td>\n      <td>1</td>\n    </tr>\n    <tr>\n      <th>19</th>\n      <td>20</td>\n      <td>DEC-OH</td>\n      <td>deg</td>\n      <td>G</td>\n      <td>3.665191e-03</td>\n      <td>None</td>\n      <td>None</td>\n      <td>1</td>\n    </tr>\n    <tr>\n      <th>20</th>\n      <td>21</td>\n      <td>DEC-OI</td>\n      <td>deg</td>\n      <td>G</td>\n      <td>8.726646e-04</td>\n      <td>None</td>\n      <td>None</td>\n      <td>1</td>\n    </tr>\n    <tr>\n      <th>21</th>\n      <td>22</td>\n      <td>DECR</td>\n      <td>deg</td>\n      <td>R</td>\n      <td>1.745329e-03</td>\n      <td>None</td>\n      <td>None</td>\n      <td>1</td>\n    </tr>\n    <tr>\n      <th>22</th>\n      <td>23</td>\n      <td>DBH-U</td>\n      <td>deg.nT</td>\n      <td>W</td>\n      <td>4.101524e+01</td>\n      <td>None</td>\n      <td>None</td>\n      <td>1 / (mtot * cos(dip))</td>\n    </tr>\n    <tr>\n      <th>23</th>\n      <td>24</td>\n      <td>DBH-OS</td>\n      <td>deg.nT</td>\n      <td>G</td>\n      <td>5.862561e+01</td>\n      <td>None</td>\n      <td>None</td>\n      <td>1 / (mtot * cos(dip))</td>\n    </tr>\n    <tr>\n      <th>24</th>\n      <td>25</td>\n      <td>DBH-OH</td>\n      <td>deg.nT</td>\n      <td>G</td>\n      <td>4.956735e+01</td>\n      <td>None</td>\n      <td>None</td>\n      <td>1 / (mtot * cos(dip))</td>\n    </tr>\n    <tr>\n      <th>25</th>\n      <td>26</td>\n      <td>DBH-OI</td>\n      <td>deg.nT</td>\n      <td>G</td>\n      <td>6.213372e+00</td>\n      <td>None</td>\n      <td>None</td>\n      <td>1 / (mtot * cos(dip))</td>\n    </tr>\n    <tr>\n      <th>26</th>\n      <td>27</td>\n      <td>DBHR</td>\n      <td>deg.nT</td>\n      <td>R</td>\n      <td>5.235988e+01</td>\n      <td>None</td>\n      <td>None</td>\n      <td>1 / (mtot * cos(dip))</td>\n    </tr>\n    <tr>\n      <th>27</th>\n      <td>28</td>\n      <td>AMIL</td>\n      <td>nT</td>\n      <td>S</td>\n      <td>2.200000e+02</td>\n      <td>None</td>\n      <td>None</td>\n      <td>sin(inc) * sin(azm) / (mtot * cos(dip))</td>\n    </tr>\n    <tr>\n      <th>28</th>\n      <td>29</td>\n      <td>SAGE</td>\n      <td>deg</td>\n      <td>S</td>\n      <td>3.490659e-03</td>\n      <td>None</td>\n      <td>(sin(inc))^0.25</td>\n      <td>None</td>\n    </tr>\n    <tr>\n      <th>29</th>\n      <td>30</td>\n      <td>XYM1</td>\n      <td>deg</td>\n      <td>S</td>\n      <td>1.745329e-03</td>\n      <td>None</td>\n      <td>abs(sin(inc))</td>\n      <td>None</td>\n    </tr>\n    <tr>\n      <th>30</th>\n      <td>31</td>\n      <td>XYM2</td>\n      <td>deg</td>\n      <td>S</td>\n      <td>1.745329e-03</td>\n      <td>None</td>\n      <td>None</td>\n      <td>-1</td>\n    </tr>\n    <tr>\n      <th>31</th>\n      <td>32</td>\n      <td>XYM3E</td>\n      <td>deg</td>\n      <td>R</td>\n      <td>5.235988e-03</td>\n      <td>None</td>\n      <td>cos(inc) * cos(azt)  * max(1, sqrt(10/(dmd)))</td>\n      <td>(cos(inc) * sin(azt)  / sin(inc)) * max(1, sqr...</td>\n    </tr>\n    <tr>\n      <th>32</th>\n      <td>33</td>\n      <td>XYM4E</td>\n      <td>deg</td>\n      <td>R</td>\n      <td>5.235988e-03</td>\n      <td>None</td>\n      <td>cos(inc) * sin(azt) * max(1, sqrt(10/(dmd)))</td>\n      <td>(cos(inc) * cos(azt)  / sin(inc)) * max(1, sqr...</td>\n    </tr>\n    <tr>\n      <th>33</th>\n      <td>34</td>\n      <td>XCLA</td>\n      <td>-</td>\n      <td>R</td>\n      <td>1.670000e-01</td>\n      <td>None</td>\n      <td>None</td>\n      <td>max(abs(dazt), 0.0328084 * (dmd) / sin(inc))</td>\n    </tr>\n    <tr>\n      <th>34</th>\n      <td>35</td>\n      <td>XCLH</td>\n      <td>-</td>\n      <td>R</td>\n      <td>1.670000e-01</td>\n      <td>None</td>\n      <td>max(abs(inc-incprev), 0.0328084* (dmd))</td>\n      <td>None</td>\n    </tr>\n  </tbody>\n</table>\n</div>"
     },
     "execution_count": 28,
     "metadata": {},
     "output_type": "execute_result"
    }
   ],
   "source": [
    "for col in formula_cols:\n",
    "    df[col]  = df[col].apply(replace_str)\n",
    "df"
   ],
   "metadata": {
    "collapsed": false,
    "pycharm": {
     "name": "#%%\n"
    }
   }
  },
  {
   "cell_type": "code",
   "execution_count": 30,
   "outputs": [],
   "source": [
    "Survey_Tool = SurveyToolErrorModel(\n",
    "        survey_tool_id=\"none\",\n",
    "    survey_tool_name = \"A001Mc\",\n",
    "    sequence_no = 0,\n",
    "    error_terms = [],\n",
    "    start_depth= 0,\n",
    "    end_depth = 8000\n",
    "\n",
    ")"
   ],
   "metadata": {
    "collapsed": false,
    "pycharm": {
     "name": "#%%\n"
    }
   }
  },
  {
   "cell_type": "code",
   "execution_count": 52,
   "outputs": [],
   "source": [
    "def extract_tie_type(code: dict) -> str:\n",
    "    if code[\"tie_type\"].lower() == 'r':\n",
    "        return Propagation.RANDOM\n",
    "    elif code[\"tie_type\"].lower()  == \"s\":\n",
    "        return Propagation.SYSTEMATIC\n",
    "    elif code[\"tie_type\"].lower()  == \"g\":\n",
    "        return Propagation.GLOBAL\n",
    "    elif code[\"tie_type\"].lower()  == \"n\":\n",
    "        return Propagation.NA\n",
    "\n",
    "    return Propagation.SYSTEMATIC\n",
    "\n",
    "def create_error_class(row, formula: str, vector: VectorType):\n",
    "    tie_type = extract_tie_type(row)\n",
    "\n",
    "    return ErrorTerm(\n",
    "        sequence_no = row[\"sequence_no\"],\n",
    "        term_name = row[\"term_name\"],\n",
    "        formula= formula,\n",
    "        error_function=(result := function_builder(formula, row[\"term_name\"].lower().replace(\"-\", \"_\")))[0],\n",
    "        magnitude=row[\"c_value\"],\n",
    "        units=row[\"c_units\"],\n",
    "        tie_type=tie_type,\n",
    "        vector_type= vector,\n",
    "        arguments=result[1],\n",
    "        func_string=result[2]\n",
    "\n",
    "    )"
   ],
   "metadata": {
    "collapsed": false,
    "pycharm": {
     "name": "#%%\n"
    }
   }
  },
  {
   "cell_type": "code",
   "execution_count": 53,
   "outputs": [],
   "source": [
    "def convert_error_terms(row):\n",
    "    print(row)\n",
    "    error_terms = []\n",
    "\n",
    "    if row[\"Depth Formula\"]:\n",
    "        formula = row[\"Depth Formula\"]\n",
    "        vector = VectorType.DEPTH\n",
    "        error_terms.append(create_error_class(row, formula, vector))\n",
    "\n",
    "    if row[\"Inclination Formula\"]:\n",
    "        formula = row[\"Inclination Formula\"]\n",
    "        vector = VectorType.INCLINATION\n",
    "        error_terms.append(create_error_class(row, formula, vector))\n",
    "\n",
    "    if row[\"Azimuth Formula\"]:\n",
    "        formula = row[\"Azimuth Formula\"]\n",
    "        if row[\"Inclination Formula\"]:\n",
    "            vector = VectorType.LATERAL\n",
    "        else:\n",
    "            vector = VectorType.AZIMUTH\n",
    "\n",
    "        error_terms.append(create_error_class(row, formula, vector))\n",
    "\n",
    "    return error_terms\n"
   ],
   "metadata": {
    "collapsed": false,
    "pycharm": {
     "name": "#%%\n"
    }
   }
  },
  {
   "cell_type": "code",
   "execution_count": 54,
   "outputs": [
    {
     "name": "stdout",
     "output_type": "stream",
     "text": [
      "sequence_no               1\n",
      "term_name              DRFR\n",
      "c_units                   m\n",
      "tie_type                  R\n",
      "c_value                0.35\n",
      "Depth Formula             1\n",
      "Inclination Formula    None\n",
      "Azimuth Formula        None\n",
      "Name: 0, dtype: object\n",
      "sequence_no                  2\n",
      "term_name                 DSFS\n",
      "c_units                      -\n",
      "tie_type                     S\n",
      "c_value                0.00056\n",
      "Depth Formula              tmd\n",
      "Inclination Formula       None\n",
      "Azimuth Formula           None\n",
      "Name: 1, dtype: object\n",
      "sequence_no                    3\n",
      "term_name                   DSTG\n",
      "c_units                      1/m\n",
      "tie_type                       G\n",
      "c_value                      0.0\n",
      "Depth Formula          tmd * tvd\n",
      "Inclination Formula         None\n",
      "Azimuth Formula             None\n",
      "Name: 2, dtype: object\n",
      "sequence_no                                                  4\n",
      "term_name                                            ABXY-TI1S\n",
      "c_units                                                   m/s2\n",
      "tie_type                                                     S\n",
      "c_value                                                  0.004\n",
      "Depth Formula                                             None\n",
      "Inclination Formula                           -cos(inc) / gtot\n",
      "Azimuth Formula        (tan(dip) * cos(inc) * sin(azm)) / gtot\n",
      "Name: 3, dtype: object\n",
      "sequence_no                                                            5\n",
      "term_name                                                      ABXY-TI2S\n",
      "c_units                                                             m/s2\n",
      "tie_type                                                               S\n",
      "c_value                                                            0.004\n",
      "Depth Formula                                                       None\n",
      "Inclination Formula                                                 None\n",
      "Azimuth Formula        ((tan((pi / 2) - inc)) - tan(dip) * cos(azm)) ...\n",
      "Name: 4, dtype: object\n",
      "sequence_no                                                6\n",
      "term_name                                                ABZ\n",
      "c_units                                                 m/s2\n",
      "tie_type                                                   S\n",
      "c_value                                                0.004\n",
      "Depth Formula                                           None\n",
      "Inclination Formula                         -sin(inc) / gtot\n",
      "Azimuth Formula        tan(dip) * sin(inc) * sin(azm) / gtot\n",
      "Name: 5, dtype: object\n",
      "sequence_no                                                            7\n",
      "term_name                                                      ASXY-TI1S\n",
      "c_units                                                                -\n",
      "tie_type                                                               S\n",
      "c_value                                                           0.0005\n",
      "Depth Formula                                                       None\n",
      "Inclination Formula                         sin(inc) * cos(inc) / sqr(2)\n",
      "Azimuth Formula        (-tan(dip) * sin(inc) * cos(inc) * sin(azm)) /...\n",
      "Name: 6, dtype: object\n",
      "sequence_no                                                           8\n",
      "term_name                                                     ASXY-TI2S\n",
      "c_units                                                               -\n",
      "tie_type                                                              S\n",
      "c_value                                                          0.0005\n",
      "Depth Formula                                                      None\n",
      "Inclination Formula                             sin(inc) * cos(inc) / 2\n",
      "Azimuth Formula        (-tan(dip) * sin(inc) * cos(inc) * sin(azm)) / 2\n",
      "Name: 7, dtype: object\n",
      "sequence_no                                                          9\n",
      "term_name                                                    ASXY-TI3S\n",
      "c_units                                                              -\n",
      "tie_type                                                             S\n",
      "c_value                                                         0.0005\n",
      "Depth Formula                                                     None\n",
      "Inclination Formula                                               None\n",
      "Azimuth Formula        (tan(dip) * sin(inc) * cos(azm) - cos(inc)) / 2\n",
      "Name: 8, dtype: object\n",
      "sequence_no                                                   10\n",
      "term_name                                                    ASZ\n",
      "c_units                                                        -\n",
      "tie_type                                                       S\n",
      "c_value                                                   0.0005\n",
      "Depth Formula                                               None\n",
      "Inclination Formula                         -sin(inc) * cos(inc)\n",
      "Azimuth Formula        tan(dip) * sin(inc) * cos(inc) * sin(azm)\n",
      "Name: 9, dtype: object\n",
      "sequence_no                                                  11\n",
      "term_name                                             MBXY-TI1S\n",
      "c_units                                                      nT\n",
      "tie_type                                                      S\n",
      "c_value                                                    70.0\n",
      "Depth Formula                                              None\n",
      "Inclination Formula                                        None\n",
      "Azimuth Formula        -cos(inc) * sin(azm) / (mtot * cos(dip))\n",
      "Name: 10, dtype: object\n",
      "sequence_no                                      12\n",
      "term_name                                 MBXY-TI2S\n",
      "c_units                                          nT\n",
      "tie_type                                          S\n",
      "c_value                                        70.0\n",
      "Depth Formula                                  None\n",
      "Inclination Formula                            None\n",
      "Azimuth Formula        cos(azm) / (mtot * cos(dip))\n",
      "Name: 11, dtype: object\n",
      "sequence_no                                                  13\n",
      "term_name                                                   MBZ\n",
      "c_units                                                      nT\n",
      "tie_type                                                      S\n",
      "c_value                                                    70.0\n",
      "Depth Formula                                              None\n",
      "Inclination Formula                                        None\n",
      "Azimuth Formula        -sin(inc) * sin(azm) / (mtot * cos(dip))\n",
      "Name: 12, dtype: object\n",
      "sequence_no                                                           14\n",
      "term_name                                                      MSXY-TI1S\n",
      "c_units                                                                -\n",
      "tie_type                                                               S\n",
      "c_value                                                           0.0016\n",
      "Depth Formula                                                       None\n",
      "Inclination Formula                                                 None\n",
      "Azimuth Formula        sin(inc) * sin(azm) * (tan(dip) * cos(inc) + s...\n",
      "Name: 13, dtype: object\n",
      "sequence_no                                                           15\n",
      "term_name                                                      MSXY-TI2S\n",
      "c_units                                                                -\n",
      "tie_type                                                               S\n",
      "c_value                                                           0.0016\n",
      "Depth Formula                                                       None\n",
      "Inclination Formula                                                 None\n",
      "Azimuth Formula        sin(azm) * (tan(dip) * sin(inc) * cos(inc) - c...\n",
      "Name: 14, dtype: object\n",
      "sequence_no                                                           16\n",
      "term_name                                                      MSXY-TI3S\n",
      "c_units                                                                -\n",
      "tie_type                                                               S\n",
      "c_value                                                           0.0016\n",
      "Depth Formula                                                       None\n",
      "Inclination Formula                                                 None\n",
      "Azimuth Formula        (cos(inc) * cos(azm) * cos(azm) - cos(inc) * s...\n",
      "Name: 15, dtype: object\n",
      "sequence_no                                                           17\n",
      "term_name                                                            MSZ\n",
      "c_units                                                                -\n",
      "tie_type                                                               S\n",
      "c_value                                                           0.0016\n",
      "Depth Formula                                                       None\n",
      "Inclination Formula                                                 None\n",
      "Azimuth Formula        -(sin(inc) * cos(azm) + tan(dip) * cos(inc)) *...\n",
      "Name: 16, dtype: object\n",
      "sequence_no                  18\n",
      "term_name                 DEC-U\n",
      "c_units                     deg\n",
      "tie_type                      W\n",
      "c_value                0.002793\n",
      "Depth Formula              None\n",
      "Inclination Formula        None\n",
      "Azimuth Formula               1\n",
      "Name: 17, dtype: object\n",
      "sequence_no                  19\n",
      "term_name                DEC-OS\n",
      "c_units                     deg\n",
      "tie_type                      G\n",
      "c_value                0.004189\n",
      "Depth Formula              None\n",
      "Inclination Formula        None\n",
      "Azimuth Formula               1\n",
      "Name: 18, dtype: object\n",
      "sequence_no                  20\n",
      "term_name                DEC-OH\n",
      "c_units                     deg\n",
      "tie_type                      G\n",
      "c_value                0.003665\n",
      "Depth Formula              None\n",
      "Inclination Formula        None\n",
      "Azimuth Formula               1\n",
      "Name: 19, dtype: object\n",
      "sequence_no                  21\n",
      "term_name                DEC-OI\n",
      "c_units                     deg\n",
      "tie_type                      G\n",
      "c_value                0.000873\n",
      "Depth Formula              None\n",
      "Inclination Formula        None\n",
      "Azimuth Formula               1\n",
      "Name: 20, dtype: object\n",
      "sequence_no                  22\n",
      "term_name                  DECR\n",
      "c_units                     deg\n",
      "tie_type                      R\n",
      "c_value                0.001745\n",
      "Depth Formula              None\n",
      "Inclination Formula        None\n",
      "Azimuth Formula               1\n",
      "Name: 21, dtype: object\n",
      "sequence_no                               23\n",
      "term_name                              DBH-U\n",
      "c_units                               deg.nT\n",
      "tie_type                                   W\n",
      "c_value                            41.015237\n",
      "Depth Formula                           None\n",
      "Inclination Formula                     None\n",
      "Azimuth Formula        1 / (mtot * cos(dip))\n",
      "Name: 22, dtype: object\n",
      "sequence_no                               24\n",
      "term_name                             DBH-OS\n",
      "c_units                               deg.nT\n",
      "tie_type                                   G\n",
      "c_value                             58.62561\n",
      "Depth Formula                           None\n",
      "Inclination Formula                     None\n",
      "Azimuth Formula        1 / (mtot * cos(dip))\n",
      "Name: 23, dtype: object\n",
      "sequence_no                               25\n",
      "term_name                             DBH-OH\n",
      "c_units                               deg.nT\n",
      "tie_type                                   G\n",
      "c_value                            49.567351\n",
      "Depth Formula                           None\n",
      "Inclination Formula                     None\n",
      "Azimuth Formula        1 / (mtot * cos(dip))\n",
      "Name: 24, dtype: object\n",
      "sequence_no                               26\n",
      "term_name                             DBH-OI\n",
      "c_units                               deg.nT\n",
      "tie_type                                   G\n",
      "c_value                             6.213372\n",
      "Depth Formula                           None\n",
      "Inclination Formula                     None\n",
      "Azimuth Formula        1 / (mtot * cos(dip))\n",
      "Name: 25, dtype: object\n",
      "sequence_no                               27\n",
      "term_name                               DBHR\n",
      "c_units                               deg.nT\n",
      "tie_type                                   R\n",
      "c_value                            52.359878\n",
      "Depth Formula                           None\n",
      "Inclination Formula                     None\n",
      "Azimuth Formula        1 / (mtot * cos(dip))\n",
      "Name: 26, dtype: object\n",
      "sequence_no                                                 28\n",
      "term_name                                                 AMIL\n",
      "c_units                                                     nT\n",
      "tie_type                                                     S\n",
      "c_value                                                  220.0\n",
      "Depth Formula                                             None\n",
      "Inclination Formula                                       None\n",
      "Azimuth Formula        sin(inc) * sin(azm) / (mtot * cos(dip))\n",
      "Name: 27, dtype: object\n",
      "sequence_no                         29\n",
      "term_name                         SAGE\n",
      "c_units                            deg\n",
      "tie_type                             S\n",
      "c_value                       0.003491\n",
      "Depth Formula                     None\n",
      "Inclination Formula    (sin(inc))^0.25\n",
      "Azimuth Formula                   None\n",
      "Name: 28, dtype: object\n",
      "sequence_no                       30\n",
      "term_name                       XYM1\n",
      "c_units                          deg\n",
      "tie_type                           S\n",
      "c_value                     0.001745\n",
      "Depth Formula                   None\n",
      "Inclination Formula    abs(sin(inc))\n",
      "Azimuth Formula                 None\n",
      "Name: 29, dtype: object\n",
      "sequence_no                  31\n",
      "term_name                  XYM2\n",
      "c_units                     deg\n",
      "tie_type                      S\n",
      "c_value                0.001745\n",
      "Depth Formula              None\n",
      "Inclination Formula        None\n",
      "Azimuth Formula              -1\n",
      "Name: 30, dtype: object\n",
      "sequence_no                                                           32\n",
      "term_name                                                          XYM3E\n",
      "c_units                                                              deg\n",
      "tie_type                                                               R\n",
      "c_value                                                         0.005236\n",
      "Depth Formula                                                       None\n",
      "Inclination Formula        cos(inc) * cos(azt)  * max(1, sqrt(10/(dmd)))\n",
      "Azimuth Formula        (cos(inc) * sin(azt)  / sin(inc)) * max(1, sqr...\n",
      "Name: 31, dtype: object\n",
      "sequence_no                                                           33\n",
      "term_name                                                          XYM4E\n",
      "c_units                                                              deg\n",
      "tie_type                                                               R\n",
      "c_value                                                         0.005236\n",
      "Depth Formula                                                       None\n",
      "Inclination Formula         cos(inc) * sin(azt) * max(1, sqrt(10/(dmd)))\n",
      "Azimuth Formula        (cos(inc) * cos(azt)  / sin(inc)) * max(1, sqr...\n",
      "Name: 32, dtype: object\n",
      "sequence_no                                                      34\n",
      "term_name                                                      XCLA\n",
      "c_units                                                           -\n",
      "tie_type                                                          R\n",
      "c_value                                                       0.167\n",
      "Depth Formula                                                  None\n",
      "Inclination Formula                                            None\n",
      "Azimuth Formula        max(abs(dazt), 0.0328084 * (dmd) / sin(inc))\n",
      "Name: 33, dtype: object\n",
      "sequence_no                                                 35\n",
      "term_name                                                 XCLH\n",
      "c_units                                                      -\n",
      "tie_type                                                     R\n",
      "c_value                                                  0.167\n",
      "Depth Formula                                             None\n",
      "Inclination Formula    max(abs(inc-incprev), 0.0328084* (dmd))\n",
      "Azimuth Formula                                           None\n",
      "Name: 34, dtype: object\n"
     ]
    }
   ],
   "source": [
    "error_terms = []\n",
    "for index, row in df.iterrows():\n",
    "    new_error_terms = convert_error_terms(row)\n",
    "    error_terms.extend(new_error_terms)"
   ],
   "metadata": {
    "collapsed": false,
    "pycharm": {
     "name": "#%%\n"
    }
   }
  },
  {
   "cell_type": "code",
   "execution_count": 56,
   "outputs": [
    {
     "data": {
      "text/plain": "42"
     },
     "execution_count": 56,
     "metadata": {},
     "output_type": "execute_result"
    }
   ],
   "source": [
    "len(error_terms)"
   ],
   "metadata": {
    "collapsed": false,
    "pycharm": {
     "name": "#%%\n"
    }
   }
  },
  {
   "cell_type": "code",
   "execution_count": null,
   "outputs": [],
   "source": [],
   "metadata": {
    "collapsed": false,
    "pycharm": {
     "name": "#%%\n"
    }
   }
  }
 ],
 "metadata": {
  "kernelspec": {
   "display_name": "Python 3 (ipykernel)",
   "language": "python",
   "name": "python3"
  },
  "language_info": {
   "codemirror_mode": {
    "name": "ipython",
    "version": 3
   },
   "file_extension": ".py",
   "mimetype": "text/x-python",
   "name": "python",
   "nbconvert_exporter": "python",
   "pygments_lexer": "ipython3",
   "version": "3.9.13"
  }
 },
 "nbformat": 4,
 "nbformat_minor": 5
}